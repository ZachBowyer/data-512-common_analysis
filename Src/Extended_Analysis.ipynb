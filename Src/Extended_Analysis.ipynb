{
 "cells": [
  {
   "cell_type": "markdown",
   "id": "b1722779",
   "metadata": {},
   "source": [
    "# See extensionPlanReport.pdf\n",
    "Find various health issues that are relevant to smoke (cardiovascular and respiratory issues).\n",
    "Get national averages.\n",
    "Find smoke impact to those issues and see how much it increases risk of them.\n",
    "Add average for city population + percentage risk increase * leftover pop to get projected new numbers of disease in the city\n",
    "Find estimate for total ED visits via relevant diseases (percentages based on number of people with specific diseases relevant to smoke).\n",
    "Once we get yearly estimates do a linear regression/ARMA to project to 2050.\n",
    "Project the rest of the diseases for visualizations.\n",
    "Lets try to model total emergency department visits\n",
    "\n",
    "Try to see how ED visits is proportional to number of workers in healthcare?"
   ]
  },
  {
   "cell_type": "markdown",
   "id": "a28b9361",
   "metadata": {},
   "source": [
    "# Imports"
   ]
  },
  {
   "cell_type": "code",
   "execution_count": 13,
   "id": "8518871f",
   "metadata": {},
   "outputs": [],
   "source": [
    "import os, json, time, sys\n",
    "from wildfire.Reader import Reader\n",
    "#import geojson\n",
    "import requests\n",
    "#import pyproj\n",
    "import math\n",
    "import numpy as np\n",
    "import datetime as dt\n",
    "#from pyproj import Transformer, Geod\n",
    "from wildfire.Reader import Reader as WFReader\n",
    "from tqdm import tqdm\n",
    "import sklearn\n",
    "import matplotlib.pyplot as plt\n",
    "from sklearn.linear_model import LinearRegression\n",
    "import pandas as pd\n",
    "import statsmodels\n",
    "import statsmodels.api as sm\n",
    "import csv"
   ]
  },
  {
   "cell_type": "markdown",
   "id": "2b31a713",
   "metadata": {},
   "source": [
    "# Read in census data"
   ]
  },
  {
   "cell_type": "markdown",
   "id": "6d94d01e",
   "metadata": {},
   "source": [
    "#### Age demographics per year from 2010-2021\n",
    "Codes:  \n",
    "S0101_C01_001E - Total population estimate  \n",
    "S0101_C01_002E - Age under 5 estimate  \n",
    "S0101_C01_003E - Age 5 to 9 estimate  \n",
    "S0101_C01_004E - Age 10 to 14 estimate  \n",
    "S0101_C01_005E - Age 15 to 19 estimate  \n",
    "S0101_C01_006E - 20 to 24  \n",
    "S0101_C01_007E - 25 to 29  \n",
    "S0101_C01_008E - 30 to 34  \n",
    "S0101_C01_009E - 35 to 39  \n",
    "S0101_C01_010E - 40 to 44  \n",
    "S0101_C01_011E - 45 to 49  \n",
    "S0101_C01_012E - 50 to 54  \n",
    "S0101_C01_013E - 55 to 59  \n",
    "S0101_C01_014E - 60 to 64  \n",
    "S0101_C01_015E - 65 to 69  \n",
    "S0101_C01_016E - 70 to 74  \n",
    "S0101_C01_017E - 75 to 79  \n",
    "S0101_C01_018E - 80 to 84  \n",
    "S0101_C01_019E - 85+  "
   ]
  },
  {
   "cell_type": "code",
   "execution_count": 36,
   "id": "c5942325",
   "metadata": {
    "scrolled": false
   },
   "outputs": [],
   "source": [
    "def getAgeInformation(filepath):\n",
    "    \"\"\"\n",
    "    Description:\n",
    "        Reads in census data age files and parses out particular fields we care about.\n",
    "        See above markdown cell for code information.\n",
    "    Inputs:\n",
    "        filepath - String - Location of file\n",
    "    Outputs:\n",
    "        Dictionary\n",
    "    \"\"\"\n",
    "    results = {}\n",
    "    testdf = pd.read_csv(\"../Data/AgeAndSex/ACSST5Y2010.S0101-Data.csv\")\n",
    "    Total_pop_estimate = float(testdf['S0101_C01_001E'][1])\n",
    "    results[\"Total_pop_estimate\"] = Total_pop_estimate\n",
    "    results[\"Pop_estimate_0to5\"] = float(testdf['S0101_C01_002E'][1]) * Total_pop_estimate/100\n",
    "    results[\"Pop_estimate_5to9\"] = float(testdf['S0101_C01_003E'][1]) * Total_pop_estimate/100\n",
    "    results[\"Pop_estimate_10to14\"] = float(testdf['S0101_C01_004E'][1]) * Total_pop_estimate/100\n",
    "    results[\"Pop_estimate_15to19\"] = float(testdf['S0101_C01_005E'][1]) * Total_pop_estimate/100\n",
    "    results[\"Pop_estimate_20to24\"] = float(testdf['S0101_C01_006E'][1]) * Total_pop_estimate/100\n",
    "    results[\"Pop_estimate_25to29\"] = float(testdf['S0101_C01_007E'][1]) * Total_pop_estimate/100\n",
    "    results[\"Pop_estimate_30to34\"] = float(testdf['S0101_C01_008E'][1]) * Total_pop_estimate/100\n",
    "    results[\"Pop_estimate_35to39\"] = float(testdf['S0101_C01_009E'][1]) * Total_pop_estimate/100\n",
    "    results[\"Pop_estimate_40to44\"] = float(testdf['S0101_C01_010E'][1]) * Total_pop_estimate/100\n",
    "    results[\"Pop_estimate_45to49\"] = float(testdf['S0101_C01_011E'][1]) * Total_pop_estimate/100\n",
    "    results[\"Pop_estimate_50to54\"] = float(testdf['S0101_C01_012E'][1]) * Total_pop_estimate/100\n",
    "    results[\"Pop_estimate_55to59\"] = float(testdf['S0101_C01_013E'][1]) * Total_pop_estimate/100\n",
    "    results[\"Pop_estimate_60to64\"] = float(testdf['S0101_C01_014E'][1]) * Total_pop_estimate/100\n",
    "    results[\"Pop_estimate_65to69\"] = float(testdf['S0101_C01_015E'][1]) * Total_pop_estimate/100\n",
    "    results[\"Pop_estimate_70to74\"] = float(testdf['S0101_C01_016E'][1]) * Total_pop_estimate/100\n",
    "    results[\"Pop_estimate_75to79\"] = float(testdf['S0101_C01_017E'][1]) * Total_pop_estimate/100\n",
    "    results[\"Pop_estimate_80to84\"] = float(testdf['S0101_C01_018E'][1]) * Total_pop_estimate/100\n",
    "    results[\"Pop_estimate_85toINF\"] = float(testdf['S0101_C01_019E'][1]) * Total_pop_estimate/100\n",
    "    return results\n",
    "\n",
    "Ages_2010 = getAgeInformation(\"../Data/AgeAndSex/ACSST5Y2010.S0101-Data.csv\")\n",
    "Ages_2011 = getAgeInformation(\"../Data/AgeAndSex/ACSST5Y2011.S0101-Data.csv\")\n",
    "Ages_2012 = getAgeInformation(\"../Data/AgeAndSex/ACSST5Y2012.S0101-Data.csv\")\n",
    "Ages_2013 = getAgeInformation(\"../Data/AgeAndSex/ACSST5Y2013.S0101-Data.csv\")\n",
    "Ages_2014 = getAgeInformation(\"../Data/AgeAndSex/ACSST5Y2014.S0101-Data.csv\")\n",
    "Ages_2015 = getAgeInformation(\"../Data/AgeAndSex/ACSST5Y2015.S0101-Data.csv\")\n",
    "Ages_2016 = getAgeInformation(\"../Data/AgeAndSex/ACSST5Y2016.S0101-Data.csv\")\n",
    "Ages_2017 = getAgeInformation(\"../Data/AgeAndSex/ACSST5Y2017.S0101-Data.csv\")\n",
    "Ages_2018 = getAgeInformation(\"../Data/AgeAndSex/ACSST5Y2018.S0101-Data.csv\")\n",
    "Ages_2019 = getAgeInformation(\"../Data/AgeAndSex/ACSST5Y2019.S0101-Data.csv\")\n",
    "Ages_2020 = getAgeInformation(\"../Data/AgeAndSex/ACSST5Y2020.S0101-Data.csv\")\n",
    "Ages_2021 = getAgeInformation(\"../Data/AgeAndSex/ACSST5Y2021.S0101-Data.csv\")"
   ]
  },
  {
   "cell_type": "markdown",
   "id": "5dfb2f55",
   "metadata": {},
   "source": [
    "#### Industry by citizen over 16"
   ]
  },
  {
   "cell_type": "markdown",
   "id": "a298718e",
   "metadata": {},
   "source": [
    "# Basic visualizations"
   ]
  },
  {
   "cell_type": "code",
   "execution_count": null,
   "id": "1a90eb8a",
   "metadata": {},
   "outputs": [],
   "source": []
  }
 ],
 "metadata": {
  "kernelspec": {
   "display_name": "Python 3 (ipykernel)",
   "language": "python",
   "name": "python3"
  },
  "language_info": {
   "codemirror_mode": {
    "name": "ipython",
    "version": 3
   },
   "file_extension": ".py",
   "mimetype": "text/x-python",
   "name": "python",
   "nbconvert_exporter": "python",
   "pygments_lexer": "ipython3",
   "version": "3.10.8"
  }
 },
 "nbformat": 4,
 "nbformat_minor": 5
}
