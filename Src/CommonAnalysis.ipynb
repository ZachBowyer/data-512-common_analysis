{
 "cells": [
  {
   "cell_type": "markdown",
   "id": "310837c0",
   "metadata": {},
   "source": [
    "# Description"
   ]
  },
  {
   "cell_type": "markdown",
   "id": "b9e693a0",
   "metadata": {},
   "source": [
    "# Imports"
   ]
  },
  {
   "cell_type": "code",
   "execution_count": 1,
   "id": "193f45fc",
   "metadata": {},
   "outputs": [],
   "source": [
    "import os, json, time, sys\n",
    "from wildfire.Reader import Reader\n",
    "import geojson\n",
    "import requests\n",
    "import pyproj\n",
    "from pyproj import Transformer, Geod\n",
    "from wildfire.Reader import Reader as WFReader\n",
    "from tqdm import tqdm"
   ]
  },
  {
   "cell_type": "markdown",
   "id": "390ab670",
   "metadata": {},
   "source": [
    "# Load GEOJSON file reader"
   ]
  },
  {
   "cell_type": "code",
   "execution_count": 5,
   "id": "9708f838",
   "metadata": {},
   "outputs": [
    {
     "name": "stdout",
     "output_type": "stream",
     "text": [
      "Attempting to open './../Data/GeoJson_Exports/USGS_Wildland_Fire_Combined_Dataset.json'\n",
      "Using GeoJSON module to load sample file './../Data/GeoJson_Exports/USGS_Wildland_Fire_Combined_Dataset.json'\n"
     ]
    }
   ],
   "source": [
    "data_filepath = \"./../Data/GeoJson_Exports/USGS_Wildland_Fire_Combined_Dataset.json\"\n",
    "print(f\"Attempting to open '{data_filepath}'\")\n",
    "geojson_file = open(data_filepath,\"r\")\n",
    "print(f\"Using GeoJSON module to load sample file '{data_filepath}'\")\n",
    "gj_data = geojson.load(geojson_file)\n",
    "geojson_file.close()\n",
    "wfreader = WFReader(data_filepath)"
   ]
  },
  {
   "cell_type": "markdown",
   "id": "f8644415",
   "metadata": {},
   "source": [
    "# Get fire data into list of json objects"
   ]
  },
  {
   "cell_type": "code",
   "execution_count": 6,
   "id": "f44485a4",
   "metadata": {
    "scrolled": false
   },
   "outputs": [
    {
     "name": "stdout",
     "output_type": "stream",
     "text": [
      "Loaded 10000 features\n",
      "Loaded 20000 features\n",
      "Loaded 30000 features\n",
      "Loaded 40000 features\n",
      "Loaded 50000 features\n",
      "Loaded 60000 features\n",
      "Loaded 70000 features\n",
      "Loaded 80000 features\n",
      "Loaded 90000 features\n",
      "Loaded 100000 features\n",
      "Loaded 110000 features\n",
      "Loaded 120000 features\n",
      "Loaded 130000 features\n",
      "Loaded a total of 135061 features\n"
     ]
    }
   ],
   "source": [
    "MAX_FEATURE_LOAD = 999999999\n",
    "feature_list = list()\n",
    "feature_count = 0\n",
    "# A rewind() on the reader object makes sure we're at the start of the feature list\n",
    "# This way, we can execute this cell multiple times and get the same result \n",
    "wfreader.rewind()\n",
    "# Now, read through each of the features, saving them as dictionaries into a list\n",
    "feature = wfreader.next()\n",
    "while feature:\n",
    "    feature_list.append(feature)\n",
    "    feature_count += 1\n",
    "    # if we're loading a lot of features, print progress\n",
    "    if (feature_count % 10000) == 0:\n",
    "        print(f\"Loaded {feature_count} features\")\n",
    "    # loaded the max we're allowed then break\n",
    "    if feature_count >= MAX_FEATURE_LOAD:\n",
    "        break\n",
    "    feature = wfreader.next()\n",
    "    \n",
    "# print the number of items (features) we think we loaded\n",
    "print(f\"Loaded a total of {feature_count} features\")"
   ]
  },
  {
   "cell_type": "markdown",
   "id": "8d8901a0",
   "metadata": {},
   "source": [
    "# For each fire calculate average ring distance from Leavenworth Kansas"
   ]
  },
  {
   "cell_type": "code",
   "execution_count": null,
   "id": "02e39c71",
   "metadata": {
    "scrolled": false
   },
   "outputs": [
    {
     "name": "stderr",
     "output_type": "stream",
     "text": [
      " 50%|██████████████████████████████████▌                                  | 67627/135061 [1:49:50<1:49:18, 10.28it/s]"
     ]
    }
   ],
   "source": [
    "CITY_COORDS = (39.313015, -94.941147) #LAT, LON in EPSG:4326/WSG84\n",
    "\n",
    "#\n",
    "#    Transform feature geometry data\n",
    "#\n",
    "#    The function takes one parameter, a list of ESRI:102008 coordinates that will be transformed to EPSG:4326\n",
    "#    The function returns a list of coordinates in EPSG:4326\n",
    "def convert_ring_to_epsg4326(ring_data=None):\n",
    "    converted_ring = list()\n",
    "    #\n",
    "    # We use a pyproj transformer that converts from ESRI:102008 to EPSG:4326 to transform the list of coordinates\n",
    "    to_epsg4326 = Transformer.from_crs(\"ESRI:102008\",\"EPSG:4326\")\n",
    "    # We'll run through the list transforming each ESRI:102008 x,y coordinate into a decimal degree lat,lon\n",
    "    for coord in ring_data:\n",
    "        lat,lon = to_epsg4326.transform(coord[0],coord[1])\n",
    "        new_coord = lat,lon\n",
    "        converted_ring.append(new_coord)\n",
    "    return converted_ring\n",
    "\n",
    "#    \n",
    "#    The function takes two parameters\n",
    "#        A place - which is coordinate point (list or tuple with two items, (lat,lon) in decimal degrees EPSG:4326\n",
    "#        Ring_data - a list of decimal degree coordinates for the fire boundary\n",
    "#\n",
    "#    The function returns the average miles from boundary to the place\n",
    "#\n",
    "def average_distance_from_place_to_fire_perimeter(place=None,ring_data=None):\n",
    "    # convert the ring data to the right coordinate system\n",
    "    ring = convert_ring_to_epsg4326(ring_data)    \n",
    "    # create a epsg4326 compliant object - which is what the WGS84 ellipsoid is\n",
    "    geodcalc = Geod(ellps='WGS84')\n",
    "    # create a list to store our results\n",
    "    distances_in_meters = list()\n",
    "    # run through each point in the converted ring data\n",
    "    for point in ring:\n",
    "        # calculate the distance\n",
    "        d = geodcalc.inv(place[1],place[0],point[1],point[0])\n",
    "        distances_in_meters.append(d[2])\n",
    "    #print(\"Got the following list:\",distances_in_meters)\n",
    "    # convert meters to miles\n",
    "    distances_in_miles = [meters*0.00062137 for meters in distances_in_meters]\n",
    "    # the esri polygon shape (the ring) requires that the first and last coordinates be identical to 'close the region\n",
    "    # we remove one of them so that we don't bias our average by having two of the same point\n",
    "    distances_in_miles_no_dup = distances_in_miles[1:]\n",
    "    # now, average miles\n",
    "    average = sum(distances_in_miles_no_dup)/len(distances_in_miles_no_dup)\n",
    "    return average\n",
    "\n",
    "def calculate_fire_distances(geojson_data, coords):\n",
    "    for i in tqdm(range(len(geojson_data)), position=0, leave=True):\n",
    "        try:\n",
    "            wf_feature = geojson_data[i]\n",
    "            wf_name = wf_feature['attributes']['Listed_Fire_Names'].split(',')[0]\n",
    "            wf_year = wf_feature['attributes']['Fire_Year']\n",
    "            ring_data = wf_feature['geometry']['rings'][0]\n",
    "            wf_size = wf_feature['attributes']['GIS_Acres']\n",
    "            wf_type = wf_feature['attributes']['Assigned_Fire_Type']\n",
    "            distance = average_distance_from_place_to_fire_perimeter(coords, ring_data)\n",
    "            wf_feature['distance_from_Leavenworth'] = distance\n",
    "        except:\n",
    "            print(\"Could not calculate distance for\", wf_feature['attributes']['Listed_Fire_Names'].split(',')[0])\n",
    "\n",
    "calculate_fire_distances(feature_list, CITY_COORDS)"
   ]
  },
  {
   "cell_type": "code",
   "execution_count": null,
   "id": "a188128c",
   "metadata": {},
   "outputs": [],
   "source": [
    "def get_fires_in_distance(geojson_data, miles):\n",
    "    fires_in_distance = []\n",
    "    for i in range(len(geojson_data)):\n",
    "        wf_feature = geojson_data[i]\n",
    "        wf_name = wf_feature['attributes']['Listed_Fire_Names'].split(',')[0]\n",
    "        wf_year = wf_feature['attributes']['Fire_Year']\n",
    "        ring_data = wf_feature['geometry']['rings'][0]\n",
    "        wf_size = wf_feature['attributes']['GIS_Acres']\n",
    "        wf_type = wf_feature['attributes']['Assigned_Fire_Type']\n",
    "        distance = wf_feature['distance_from_Leavenworth']\n",
    "        print(distance)\n",
    "        if(distance <= 0):\n",
    "            fires_in_distance.append(wf_feature)\n",
    "            #print(wf_name, distance)\n",
    "    return fires_in_distance\n",
    "\n",
    "city_fires = get_fires_in_distance(feature_list, 1250)\n",
    "print(\"There are a total of\", len(city_fires), \"within 100 miles of leavenworth, kansas\",)"
   ]
  },
  {
   "cell_type": "markdown",
   "id": "ad8490e1",
   "metadata": {},
   "source": [
    "# Estimate annual smoke estimate"
   ]
  },
  {
   "cell_type": "code",
   "execution_count": null,
   "id": "ae1ab41a",
   "metadata": {},
   "outputs": [],
   "source": [
    "# Summation\n",
    "# Volume of wood burned * volume of smoke produced by burning X volume of wood\n",
    "# / distance from city\n",
    "# Divide by N\n",
    "# Divide by max\n",
    "# Multiply by 500"
   ]
  },
  {
   "cell_type": "markdown",
   "id": "6285e65a",
   "metadata": {},
   "source": [
    "# Compare estimate to AQI\n",
    "AQI ranges from 0-500+, where 500+ is called 'beyond the AQI' and is extremely hazardous"
   ]
  },
  {
   "cell_type": "code",
   "execution_count": null,
   "id": "291d5de8",
   "metadata": {},
   "outputs": [],
   "source": []
  },
  {
   "cell_type": "markdown",
   "id": "75cb2ede",
   "metadata": {},
   "source": [
    "# Predictive model based on fire data and smoke estimate, forecast to 2049"
   ]
  },
  {
   "cell_type": "code",
   "execution_count": null,
   "id": "00f0996c",
   "metadata": {},
   "outputs": [],
   "source": []
  },
  {
   "cell_type": "markdown",
   "id": "d5fa4116",
   "metadata": {},
   "source": [
    "# Visualization 1: Histogram showing number of fires occuring every 50 file distance up to the max specified distance"
   ]
  },
  {
   "cell_type": "code",
   "execution_count": null,
   "id": "e6599d84",
   "metadata": {},
   "outputs": [],
   "source": []
  },
  {
   "cell_type": "markdown",
   "id": "7ff8ebbf",
   "metadata": {},
   "source": [
    "# Visualization 2: Time series graph of total acres burned per year for the fires occuring in the specified distance from Leavenworth"
   ]
  },
  {
   "cell_type": "code",
   "execution_count": null,
   "id": "5dc579f4",
   "metadata": {},
   "outputs": [],
   "source": []
  },
  {
   "cell_type": "markdown",
   "id": "3bda1e4a",
   "metadata": {},
   "source": [
    "# Visualization 3: Time series graph containing fire smoke estimate and AQI estimate for Leavenworth"
   ]
  },
  {
   "cell_type": "code",
   "execution_count": null,
   "id": "862530ad",
   "metadata": {},
   "outputs": [],
   "source": []
  }
 ],
 "metadata": {
  "kernelspec": {
   "display_name": "Data512Project",
   "language": "python",
   "name": "data512project"
  },
  "language_info": {
   "codemirror_mode": {
    "name": "ipython",
    "version": 3
   },
   "file_extension": ".py",
   "mimetype": "text/x-python",
   "name": "python",
   "nbconvert_exporter": "python",
   "pygments_lexer": "ipython3",
   "version": "3.11.5"
  }
 },
 "nbformat": 4,
 "nbformat_minor": 5
}
